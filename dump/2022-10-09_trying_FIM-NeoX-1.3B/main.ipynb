{
 "cells": [
  {
   "cell_type": "markdown",
   "metadata": {},
   "source": [
    "I wanted to try out this infilling model.\n",
    "- More info about the model here: https://huggingface.co/CarperAI/FIM-NeoX-1.3B\n",
    "- Currently doesn't seem to work, due to issue with the tokenizer, see https://huggingface.co/CarperAI/FIM-NeoX-1.3B/discussions/1\n",
    "- This model fits perfectly onto an 8gb GPU (nvidia-smi is saying: 7910MiB /  7981MiB)"
   ]
  },
  {
   "cell_type": "code",
   "execution_count": 4,
   "metadata": {},
   "outputs": [],
   "source": [
    "from transformers import AutoTokenizer, AutoModelForCausalLM\n",
    "import torch"
   ]
  },
  {
   "cell_type": "code",
   "execution_count": 2,
   "metadata": {},
   "outputs": [],
   "source": [
    "# Takes ~1.5 minutes to load\n",
    "tokenizer = AutoTokenizer.from_pretrained(\"/media/sid/bigdata/models/FIM-NeoX-1.3B\")\n",
    "model = AutoModelForCausalLM.from_pretrained(\"/media/sid/bigdata/models/FIM-NeoX-1.3B\")"
   ]
  },
  {
   "cell_type": "code",
   "execution_count": null,
   "metadata": {},
   "outputs": [],
   "source": [
    "device = \"cuda\" if torch.cuda.is_available() else \"cpu\"\n",
    "model.to(device)\n",
    "print(device)"
   ]
  },
  {
   "cell_type": "code",
   "execution_count": 89,
   "metadata": {},
   "outputs": [
    {
     "name": "stderr",
     "output_type": "stream",
     "text": [
      "Setting `pad_token_id` to `eos_token_id`:0 for open-end generation.\n"
     ]
    },
    {
     "data": {
      "text/plain": [
       "'\\n  **Societal**                                                                                                                                                                                                                                                                                                                        '"
      ]
     },
     "execution_count": 89,
     "metadata": {},
     "output_type": "execute_result"
    }
   ],
   "source": [
    "def infill(prefix, suffix):\n",
    "    input_ids = (\n",
    "        torch.tensor(\n",
    "            [\n",
    "                50253,\n",
    "                *tokenizer(suffix)[\"input_ids\"],\n",
    "                50254,\n",
    "                *tokenizer(prefix)[\"input_ids\"],\n",
    "                50255,\n",
    "            ]\n",
    "        )\n",
    "        .reshape(1, -1)\n",
    "        .to(device)\n",
    "    )\n",
    "    attention_mask = torch.ones_like(input_ids)\n",
    "    infilled = model.generate(\n",
    "        input_ids=input_ids, attention_mask=attention_mask, max_new_tokens=20\n",
    "    )\n",
    "    filled_text = tokenizer.decode(\n",
    "        infilled[0, ...][input_ids[0].tolist().index(50255) + 1 :], special_tokens=False\n",
    "    )\n",
    "    return filled_text\n",
    "\n",
    "\n",
    "infill(\"More than half the world's\", \"resides in North America\")"
   ]
  }
 ],
 "metadata": {
  "kernelspec": {
   "display_name": "Python 3.9.13 ('FIM-NeoX')",
   "language": "python",
   "name": "python3"
  },
  "language_info": {
   "codemirror_mode": {
    "name": "ipython",
    "version": 3
   },
   "file_extension": ".py",
   "mimetype": "text/x-python",
   "name": "python",
   "nbconvert_exporter": "python",
   "pygments_lexer": "ipython3",
   "version": "3.9.13"
  },
  "orig_nbformat": 4,
  "vscode": {
   "interpreter": {
    "hash": "4d6cc9d73ecdcf6f1a664b551eef157e8b0d498a436b023eed5c580e63996190"
   }
  }
 },
 "nbformat": 4,
 "nbformat_minor": 2
}
